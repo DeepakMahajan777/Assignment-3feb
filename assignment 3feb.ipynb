{
 "cells": [
  {
   "cell_type": "code",
   "execution_count": 9,
   "id": "162b5f8b-7430-40ad-91a9-966fd7b61a58",
   "metadata": {},
   "outputs": [
    {
     "data": {
      "text/plain": [
       "[1, 3, 5, 7, 9, 11, 13, 15, 17, 19, 21, 23, 25]"
      ]
     },
     "execution_count": 9,
     "metadata": {},
     "output_type": "execute_result"
    }
   ],
   "source": [
    "# Ans1. def keyword is used to create or define a function.\n",
    "def odd():\n",
    "    l = []\n",
    "    for i in range(1,26):\n",
    "        if i % 2 != 0:\n",
    "            l.append(i)\n",
    "            \n",
    "    return l\n",
    "odd()"
   ]
  },
  {
   "cell_type": "code",
   "execution_count": 16,
   "id": "d5ad87e0-748e-4d05-9d00-d0bd057c7629",
   "metadata": {},
   "outputs": [],
   "source": [
    "# Ans2. *args allows us to pass a variable number of non-keyword arguments in python function\n",
    "def add(*args):\n",
    "    return sum(args)"
   ]
  },
  {
   "cell_type": "code",
   "execution_count": 17,
   "id": "1c79a614-d4a0-4b52-949f-a498da511fa6",
   "metadata": {},
   "outputs": [
    {
     "data": {
      "text/plain": [
       "12"
      ]
     },
     "execution_count": 17,
     "metadata": {},
     "output_type": "execute_result"
    }
   ],
   "source": [
    "add(1,5,6)"
   ]
  },
  {
   "cell_type": "code",
   "execution_count": 24,
   "id": "f50d3d69-9c4b-4575-b13e-90e153cfa152",
   "metadata": {},
   "outputs": [],
   "source": [
    "# **kwargs allowus to pass a variable number of keywords argument to a python function\n",
    "def marks(**subject):\n",
    "    total = 0\n",
    "    for mark in subject.values():\n",
    "        total = total+mark\n",
    "    return total\n",
    "        "
   ]
  },
  {
   "cell_type": "code",
   "execution_count": 25,
   "id": "7d828ddc-6d97-40b0-9601-2cf686b9e03c",
   "metadata": {},
   "outputs": [
    {
     "data": {
      "text/plain": [
       "73"
      ]
     },
     "execution_count": 25,
     "metadata": {},
     "output_type": "execute_result"
    }
   ],
   "source": [
    "marks(math=20,science=25, gs=28)"
   ]
  },
  {
   "cell_type": "code",
   "execution_count": 26,
   "id": "b72f65b6-ad32-4e22-a1c8-84aef0233731",
   "metadata": {},
   "outputs": [
    {
     "name": "stdout",
     "output_type": "stream",
     "text": [
      "1\n"
     ]
    }
   ],
   "source": [
    "# Ans3.  iterator in pythin is an object that is used to iterate like lists,tupels,dictand sets\n",
    "l = [1,2,3,4,5,6]\n",
    "\n",
    "l1 = iter(l)\n",
    "\n",
    "print(next(l1))\n"
   ]
  },
  {
   "cell_type": "code",
   "execution_count": 27,
   "id": "0280fc0f-ac38-4f73-92cd-e4979f3536d1",
   "metadata": {},
   "outputs": [
    {
     "name": "stdout",
     "output_type": "stream",
     "text": [
      "2\n"
     ]
    }
   ],
   "source": [
    "print(next(l1))"
   ]
  },
  {
   "cell_type": "code",
   "execution_count": 31,
   "id": "9ba2e93e-49d7-40b9-a485-195798573c5c",
   "metadata": {},
   "outputs": [
    {
     "name": "stdout",
     "output_type": "stream",
     "text": [
      "list is : [1, 2, 3, 4, 5, 6, 7, 8, 9]\n",
      "even numbers :\n",
      "2\n",
      "4\n",
      "6\n",
      "8\n"
     ]
    }
   ],
   "source": [
    "# Ans4. Generator function allows us to declare a function that behaves like an iterator.\n",
    "# yield is used to create a generator function.\n",
    "def even_number(list):\n",
    "    for i in list:\n",
    "        if i % 2 == 0:\n",
    "            yield i\n",
    "        \n",
    "list = [1,2,3,4,5,6,7,8,9]\n",
    "print(\"list is :\", str(list))\n",
    "print(\"even numbers :\")\n",
    "for j in even_number(list):\n",
    "    print(j)"
   ]
  },
  {
   "cell_type": "code",
   "execution_count": 37,
   "id": "18c134cb-b9f1-4908-8ffd-b3c2e939bf60",
   "metadata": {},
   "outputs": [
    {
     "name": "stdout",
     "output_type": "stream",
     "text": [
      "1st 20 prime number :\n",
      "2\n",
      "3\n",
      "5\n",
      "7\n",
      "11\n",
      "13\n",
      "17\n",
      "19\n",
      "23\n",
      "29\n",
      "31\n",
      "37\n",
      "41\n",
      "43\n",
      "47\n",
      "53\n",
      "59\n",
      "61\n",
      "67\n",
      "71\n"
     ]
    }
   ],
   "source": [
    "#Ans 5. \n",
    "def prime_no():\n",
    "    for j in range(1,1001):\n",
    "        number = j\n",
    "        i = 2\n",
    "        factor = 0\n",
    "        while i < number:\n",
    "            if number%i ==0:\n",
    "                factor += 1\n",
    "            i+=1\n",
    "        if factor == 0 and number>1:\n",
    "            yield number\n",
    "prime = prime_no()\n",
    "\n",
    "print(\"1st 20 prime number :\")\n",
    "for j in range(1,21):\n",
    "    print(next(prime))"
   ]
  },
  {
   "cell_type": "code",
   "execution_count": 39,
   "id": "04036d9a-92a2-4320-b49d-d444bf934841",
   "metadata": {},
   "outputs": [
    {
     "name": "stdout",
     "output_type": "stream",
     "text": [
      "1\n",
      "2\n",
      "3\n",
      "5\n",
      "8\n",
      "13\n",
      "21\n",
      "34\n",
      "55\n",
      "89\n"
     ]
    }
   ],
   "source": [
    "#Ans6.\n",
    "i = 1\n",
    "a = 0\n",
    "b = 1\n",
    "while i <= 10:\n",
    "    c = a+b\n",
    "    print(c)\n",
    "    a,b = b,c\n",
    "    i = i+1"
   ]
  },
  {
   "cell_type": "code",
   "execution_count": 40,
   "id": "91ec0892-f776-4ff0-a0a8-f1898eba5eb3",
   "metadata": {},
   "outputs": [
    {
     "data": {
      "text/plain": [
       "['p', 'w', 's', 'k', 'i', 'l', 'l', 's']"
      ]
     },
     "execution_count": 40,
     "metadata": {},
     "output_type": "execute_result"
    }
   ],
   "source": [
    "#Ans7 .\n",
    "s = \"pwskills\"\n",
    "[i for i in s]"
   ]
  },
  {
   "cell_type": "code",
   "execution_count": null,
   "id": "2e3155b3-28e6-44b5-bdaa-3e55673ac847",
   "metadata": {},
   "outputs": [],
   "source": [
    "#Ans8.\n",
    "num = int(input(\"enter number\"))\n",
    "temp = num\n",
    "rev = 0\n",
    "while(num>0):\n",
    "    dig = num%10\n",
    "    rev = rev*10+dig\n",
    "    num = num//10\n",
    "if(temp == rev):\n",
    "    print(\"the number is palindrome\")\n",
    "else:\n",
    "    print(\"the number is not palin\")"
   ]
  }
 ],
 "metadata": {
  "kernelspec": {
   "display_name": "Python 3 (ipykernel)",
   "language": "python",
   "name": "python3"
  },
  "language_info": {
   "codemirror_mode": {
    "name": "ipython",
    "version": 3
   },
   "file_extension": ".py",
   "mimetype": "text/x-python",
   "name": "python",
   "nbconvert_exporter": "python",
   "pygments_lexer": "ipython3",
   "version": "3.10.8"
  }
 },
 "nbformat": 4,
 "nbformat_minor": 5
}
